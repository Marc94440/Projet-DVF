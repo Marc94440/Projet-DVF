{
 "cells": [
  {
   "attachments": {},
   "cell_type": "markdown",
   "metadata": {},
   "source": [
    "# Projet DVF"
   ]
  },
  {
   "attachments": {},
   "cell_type": "markdown",
   "metadata": {},
   "source": [
    "### Import et chargement des données"
   ]
  },
  {
   "cell_type": "code",
   "execution_count": 32,
   "metadata": {},
   "outputs": [
    {
     "name": "stderr",
     "output_type": "stream",
     "text": [
      "C:\\Users\\marcv\\AppData\\Local\\Temp\\ipykernel_20140\\1604235011.py:6: DtypeWarning: Columns (18,23,24,26,28,29,31,33,41) have mixed types. Specify dtype option on import or set low_memory=False.\n",
      "  valeursfoncieres_2022=pd.read_csv(\"valeursfoncieres-2022.txt\", sep=\"|\")\n"
     ]
    }
   ],
   "source": [
    "#!pip install Django==4.2\n",
    "import pandas as pd\n",
    "from datetime import datetime\n",
    "import numpy as np\n",
    "\n",
    "valeursfoncieres_2022=pd.read_csv(\"valeursfoncieres-2022.txt\", sep=\"|\")\n",
    "#valeursfoncieres_2021=pd.read_csv(\"valeursfoncieres-2021.txt\", sep=\"|\")\n",
    "#valeursfoncieres_2020=pd.read_csv(\"valeursfoncieres-2020.txt\", sep=\"|\")\n",
    "#valeursfoncieres_2019=pd.read_csv(\"valeursfoncieres-2019.txt\", sep=\"|\")\n",
    "#valeursfoncieres_2018=pd.read_csv(\"valeursfoncieres-2018.txt\", sep=\"|\")\n",
    "\n",
    "\n",
    "#Pour lire http://www.groupe-dvf.fr/fiche-n4-qualite-et-exhaustivite-des-donnees-dvf/"
   ]
  },
  {
   "cell_type": "code",
   "execution_count": 33,
   "metadata": {},
   "outputs": [],
   "source": [
    "valeursfoncieres_2022 = valeursfoncieres_2022.dropna(axis=1, how='all') #Supprime les colonnes vide\n",
    "valeursfoncieres_2022[\"Date mutation\"] = pd.to_datetime(valeursfoncieres_2022[\"Date mutation\"].str.strip(), format=\"%d/%m/%Y\")#Convertit Date mutation en datetime \n",
    "\n",
    "ValDeMarne = valeursfoncieres_2022.loc[valeursfoncieres_2022[\"Code departement\"] == 94]\n",
    "tfile = open('test.txt', 'w')\n",
    "tfile.write(ValDeMarne.to_string())\n",
    "tfile.close()\n",
    "\n",
    "valeursfoncieres_2022[\"Valeur fonciere\"] = valeursfoncieres_2022[\"Valeur fonciere\"].astype(str).str.replace(\",\",\".\")\n",
    "valeursfoncieres_2022[\"Valeur fonciere\"] = valeursfoncieres_2022[\"Valeur fonciere\"].replace(\"nan\", np.nan)\n",
    "valeursfoncieres_2022[\"Valeur fonciere\"] = pd.to_numeric(valeursfoncieres_2022[\"Valeur fonciere\"])\n",
    "\n",
    "\n",
    "#print(valeursfoncieres_2022.dtypes)"
   ]
  },
  {
   "attachments": {},
   "cell_type": "markdown",
   "metadata": {},
   "source": [
    "- Une bonne analyse de données (chargement,nettoyage, interprétation, combinaison,\n",
    "etc)\n",
    "\n",
    "\n",
    "\n",
    "- Au minimum une vingtaine d'interprétations et visualisations pertinentes autour d'une\n",
    "année (en particulier 2022 ) prix moyen du mètre carré d'un département d'une ville,\n",
    "comparaison entre différents type, appart, maison, geomap, différence entre ville,\n",
    "départements, régions,...\n",
    "- Au minimum 5 interprétations et visualisations pertinentes en comparaison avec au\n",
    "moins une autre année (en particulier avant covid)"
   ]
  },
  {
   "cell_type": "code",
   "execution_count": 31,
   "metadata": {},
   "outputs": [
    {
     "ename": "KeyboardInterrupt",
     "evalue": "",
     "output_type": "error",
     "traceback": [
      "\u001b[1;31m---------------------------------------------------------------------------\u001b[0m",
      "\u001b[1;31mKeyboardInterrupt\u001b[0m                         Traceback (most recent call last)",
      "Cell \u001b[1;32mIn[31], line 12\u001b[0m\n\u001b[0;32m      9\u001b[0m ValDeMarne \u001b[39m=\u001b[39m  ValDeMarne\u001b[39m.\u001b[39msort_values(\u001b[39m'\u001b[39m\u001b[39msort_val\u001b[39m\u001b[39m'\u001b[39m)\n\u001b[0;32m     11\u001b[0m tfile \u001b[39m=\u001b[39m \u001b[39mopen\u001b[39m(\u001b[39m'\u001b[39m\u001b[39mtest.txt\u001b[39m\u001b[39m'\u001b[39m, \u001b[39m'\u001b[39m\u001b[39mw\u001b[39m\u001b[39m'\u001b[39m)\n\u001b[1;32m---> 12\u001b[0m tfile\u001b[39m.\u001b[39mwrite(ValDeMarne\u001b[39m.\u001b[39;49mto_string())\n\u001b[0;32m     13\u001b[0m tfile\u001b[39m.\u001b[39mclose()\n\u001b[0;32m     16\u001b[0m ValDeMarne_Maison \u001b[39m=\u001b[39m  ValDeMarne[(ValDeMarne[\u001b[39m\"\u001b[39m\u001b[39mType local\u001b[39m\u001b[39m\"\u001b[39m]\u001b[39m==\u001b[39m\u001b[39m\"\u001b[39m\u001b[39mMaison\u001b[39m\u001b[39m\"\u001b[39m)]\n",
      "File \u001b[1;32mc:\\Users\\marcv\\anaconda3\\lib\\site-packages\\pandas\\core\\frame.py:1245\u001b[0m, in \u001b[0;36mDataFrame.to_string\u001b[1;34m(self, buf, columns, col_space, header, index, na_rep, formatters, float_format, sparsify, index_names, justify, max_rows, max_cols, show_dimensions, decimal, line_width, min_rows, max_colwidth, encoding)\u001b[0m\n\u001b[0;32m   1226\u001b[0m \u001b[39mwith\u001b[39;00m option_context(\u001b[39m\"\u001b[39m\u001b[39mdisplay.max_colwidth\u001b[39m\u001b[39m\"\u001b[39m, max_colwidth):\n\u001b[0;32m   1227\u001b[0m     formatter \u001b[39m=\u001b[39m fmt\u001b[39m.\u001b[39mDataFrameFormatter(\n\u001b[0;32m   1228\u001b[0m         \u001b[39mself\u001b[39m,\n\u001b[0;32m   1229\u001b[0m         columns\u001b[39m=\u001b[39mcolumns,\n\u001b[1;32m   (...)\u001b[0m\n\u001b[0;32m   1243\u001b[0m         decimal\u001b[39m=\u001b[39mdecimal,\n\u001b[0;32m   1244\u001b[0m     )\n\u001b[1;32m-> 1245\u001b[0m     \u001b[39mreturn\u001b[39;00m fmt\u001b[39m.\u001b[39;49mDataFrameRenderer(formatter)\u001b[39m.\u001b[39;49mto_string(\n\u001b[0;32m   1246\u001b[0m         buf\u001b[39m=\u001b[39;49mbuf,\n\u001b[0;32m   1247\u001b[0m         encoding\u001b[39m=\u001b[39;49mencoding,\n\u001b[0;32m   1248\u001b[0m         line_width\u001b[39m=\u001b[39;49mline_width,\n\u001b[0;32m   1249\u001b[0m     )\n",
      "File \u001b[1;32mc:\\Users\\marcv\\anaconda3\\lib\\site-packages\\pandas\\io\\formats\\format.py:1136\u001b[0m, in \u001b[0;36mDataFrameRenderer.to_string\u001b[1;34m(self, buf, encoding, line_width)\u001b[0m\n\u001b[0;32m   1133\u001b[0m \u001b[39mfrom\u001b[39;00m \u001b[39mpandas\u001b[39;00m\u001b[39m.\u001b[39;00m\u001b[39mio\u001b[39;00m\u001b[39m.\u001b[39;00m\u001b[39mformats\u001b[39;00m\u001b[39m.\u001b[39;00m\u001b[39mstring\u001b[39;00m \u001b[39mimport\u001b[39;00m StringFormatter\n\u001b[0;32m   1135\u001b[0m string_formatter \u001b[39m=\u001b[39m StringFormatter(\u001b[39mself\u001b[39m\u001b[39m.\u001b[39mfmt, line_width\u001b[39m=\u001b[39mline_width)\n\u001b[1;32m-> 1136\u001b[0m string \u001b[39m=\u001b[39m string_formatter\u001b[39m.\u001b[39;49mto_string()\n\u001b[0;32m   1137\u001b[0m \u001b[39mreturn\u001b[39;00m save_to_buffer(string, buf\u001b[39m=\u001b[39mbuf, encoding\u001b[39m=\u001b[39mencoding)\n",
      "File \u001b[1;32mc:\\Users\\marcv\\anaconda3\\lib\\site-packages\\pandas\\io\\formats\\string.py:30\u001b[0m, in \u001b[0;36mStringFormatter.to_string\u001b[1;34m(self)\u001b[0m\n\u001b[0;32m     29\u001b[0m \u001b[39mdef\u001b[39;00m \u001b[39mto_string\u001b[39m(\u001b[39mself\u001b[39m) \u001b[39m-\u001b[39m\u001b[39m>\u001b[39m \u001b[39mstr\u001b[39m:\n\u001b[1;32m---> 30\u001b[0m     text \u001b[39m=\u001b[39m \u001b[39mself\u001b[39;49m\u001b[39m.\u001b[39;49m_get_string_representation()\n\u001b[0;32m     31\u001b[0m     \u001b[39mif\u001b[39;00m \u001b[39mself\u001b[39m\u001b[39m.\u001b[39mfmt\u001b[39m.\u001b[39mshould_show_dimensions:\n\u001b[0;32m     32\u001b[0m         text \u001b[39m=\u001b[39m \u001b[39m\"\u001b[39m\u001b[39m\"\u001b[39m\u001b[39m.\u001b[39mjoin([text, \u001b[39mself\u001b[39m\u001b[39m.\u001b[39mfmt\u001b[39m.\u001b[39mdimensions_info])\n",
      "File \u001b[1;32mc:\\Users\\marcv\\anaconda3\\lib\\site-packages\\pandas\\io\\formats\\string.py:45\u001b[0m, in \u001b[0;36mStringFormatter._get_string_representation\u001b[1;34m(self)\u001b[0m\n\u001b[0;32m     42\u001b[0m \u001b[39mif\u001b[39;00m \u001b[39mself\u001b[39m\u001b[39m.\u001b[39mfmt\u001b[39m.\u001b[39mframe\u001b[39m.\u001b[39mempty:\n\u001b[0;32m     43\u001b[0m     \u001b[39mreturn\u001b[39;00m \u001b[39mself\u001b[39m\u001b[39m.\u001b[39m_empty_info_line\n\u001b[1;32m---> 45\u001b[0m strcols \u001b[39m=\u001b[39m \u001b[39mself\u001b[39;49m\u001b[39m.\u001b[39;49m_get_strcols()\n\u001b[0;32m     47\u001b[0m \u001b[39mif\u001b[39;00m \u001b[39mself\u001b[39m\u001b[39m.\u001b[39mline_width \u001b[39mis\u001b[39;00m \u001b[39mNone\u001b[39;00m:\n\u001b[0;32m     48\u001b[0m     \u001b[39m# no need to wrap around just print the whole frame\u001b[39;00m\n\u001b[0;32m     49\u001b[0m     \u001b[39mreturn\u001b[39;00m \u001b[39mself\u001b[39m\u001b[39m.\u001b[39madj\u001b[39m.\u001b[39madjoin(\u001b[39m1\u001b[39m, \u001b[39m*\u001b[39mstrcols)\n",
      "File \u001b[1;32mc:\\Users\\marcv\\anaconda3\\lib\\site-packages\\pandas\\io\\formats\\string.py:36\u001b[0m, in \u001b[0;36mStringFormatter._get_strcols\u001b[1;34m(self)\u001b[0m\n\u001b[0;32m     35\u001b[0m \u001b[39mdef\u001b[39;00m \u001b[39m_get_strcols\u001b[39m(\u001b[39mself\u001b[39m) \u001b[39m-\u001b[39m\u001b[39m>\u001b[39m \u001b[39mlist\u001b[39m[\u001b[39mlist\u001b[39m[\u001b[39mstr\u001b[39m]]:\n\u001b[1;32m---> 36\u001b[0m     strcols \u001b[39m=\u001b[39m \u001b[39mself\u001b[39;49m\u001b[39m.\u001b[39;49mfmt\u001b[39m.\u001b[39;49mget_strcols()\n\u001b[0;32m     37\u001b[0m     \u001b[39mif\u001b[39;00m \u001b[39mself\u001b[39m\u001b[39m.\u001b[39mfmt\u001b[39m.\u001b[39mis_truncated:\n\u001b[0;32m     38\u001b[0m         strcols \u001b[39m=\u001b[39m \u001b[39mself\u001b[39m\u001b[39m.\u001b[39m_insert_dot_separators(strcols)\n",
      "File \u001b[1;32mc:\\Users\\marcv\\anaconda3\\lib\\site-packages\\pandas\\io\\formats\\format.py:617\u001b[0m, in \u001b[0;36mDataFrameFormatter.get_strcols\u001b[1;34m(self)\u001b[0m\n\u001b[0;32m    613\u001b[0m \u001b[39mdef\u001b[39;00m \u001b[39mget_strcols\u001b[39m(\u001b[39mself\u001b[39m) \u001b[39m-\u001b[39m\u001b[39m>\u001b[39m \u001b[39mlist\u001b[39m[\u001b[39mlist\u001b[39m[\u001b[39mstr\u001b[39m]]:\n\u001b[0;32m    614\u001b[0m     \u001b[39m\"\"\"\u001b[39;00m\n\u001b[0;32m    615\u001b[0m \u001b[39m    Render a DataFrame to a list of columns (as lists of strings).\u001b[39;00m\n\u001b[0;32m    616\u001b[0m \u001b[39m    \"\"\"\u001b[39;00m\n\u001b[1;32m--> 617\u001b[0m     strcols \u001b[39m=\u001b[39m \u001b[39mself\u001b[39;49m\u001b[39m.\u001b[39;49m_get_strcols_without_index()\n\u001b[0;32m    619\u001b[0m     \u001b[39mif\u001b[39;00m \u001b[39mself\u001b[39m\u001b[39m.\u001b[39mindex:\n\u001b[0;32m    620\u001b[0m         str_index \u001b[39m=\u001b[39m \u001b[39mself\u001b[39m\u001b[39m.\u001b[39m_get_formatted_index(\u001b[39mself\u001b[39m\u001b[39m.\u001b[39mtr_frame)\n",
      "File \u001b[1;32mc:\\Users\\marcv\\anaconda3\\lib\\site-packages\\pandas\\io\\formats\\format.py:883\u001b[0m, in \u001b[0;36mDataFrameFormatter._get_strcols_without_index\u001b[1;34m(self)\u001b[0m\n\u001b[0;32m    879\u001b[0m cheader \u001b[39m=\u001b[39m str_columns[i]\n\u001b[0;32m    880\u001b[0m header_colwidth \u001b[39m=\u001b[39m \u001b[39mmax\u001b[39m(\n\u001b[0;32m    881\u001b[0m     \u001b[39mint\u001b[39m(\u001b[39mself\u001b[39m\u001b[39m.\u001b[39mcol_space\u001b[39m.\u001b[39mget(c, \u001b[39m0\u001b[39m)), \u001b[39m*\u001b[39m(\u001b[39mself\u001b[39m\u001b[39m.\u001b[39madj\u001b[39m.\u001b[39mlen(x) \u001b[39mfor\u001b[39;00m x \u001b[39min\u001b[39;00m cheader)\n\u001b[0;32m    882\u001b[0m )\n\u001b[1;32m--> 883\u001b[0m fmt_values \u001b[39m=\u001b[39m \u001b[39mself\u001b[39;49m\u001b[39m.\u001b[39;49mformat_col(i)\n\u001b[0;32m    884\u001b[0m fmt_values \u001b[39m=\u001b[39m _make_fixed_width(\n\u001b[0;32m    885\u001b[0m     fmt_values, \u001b[39mself\u001b[39m\u001b[39m.\u001b[39mjustify, minimum\u001b[39m=\u001b[39mheader_colwidth, adj\u001b[39m=\u001b[39m\u001b[39mself\u001b[39m\u001b[39m.\u001b[39madj\n\u001b[0;32m    886\u001b[0m )\n\u001b[0;32m    888\u001b[0m max_len \u001b[39m=\u001b[39m \u001b[39mmax\u001b[39m(\u001b[39mmax\u001b[39m(\u001b[39mself\u001b[39m\u001b[39m.\u001b[39madj\u001b[39m.\u001b[39mlen(x) \u001b[39mfor\u001b[39;00m x \u001b[39min\u001b[39;00m fmt_values), header_colwidth)\n",
      "File \u001b[1;32mc:\\Users\\marcv\\anaconda3\\lib\\site-packages\\pandas\\io\\formats\\format.py:897\u001b[0m, in \u001b[0;36mDataFrameFormatter.format_col\u001b[1;34m(self, i)\u001b[0m\n\u001b[0;32m    895\u001b[0m frame \u001b[39m=\u001b[39m \u001b[39mself\u001b[39m\u001b[39m.\u001b[39mtr_frame\n\u001b[0;32m    896\u001b[0m formatter \u001b[39m=\u001b[39m \u001b[39mself\u001b[39m\u001b[39m.\u001b[39m_get_formatter(i)\n\u001b[1;32m--> 897\u001b[0m \u001b[39mreturn\u001b[39;00m format_array(\n\u001b[0;32m    898\u001b[0m     frame\u001b[39m.\u001b[39;49miloc[:, i]\u001b[39m.\u001b[39;49m_values,\n\u001b[0;32m    899\u001b[0m     formatter,\n\u001b[0;32m    900\u001b[0m     float_format\u001b[39m=\u001b[39;49m\u001b[39mself\u001b[39;49m\u001b[39m.\u001b[39;49mfloat_format,\n\u001b[0;32m    901\u001b[0m     na_rep\u001b[39m=\u001b[39;49m\u001b[39mself\u001b[39;49m\u001b[39m.\u001b[39;49mna_rep,\n\u001b[0;32m    902\u001b[0m     space\u001b[39m=\u001b[39;49m\u001b[39mself\u001b[39;49m\u001b[39m.\u001b[39;49mcol_space\u001b[39m.\u001b[39;49mget(frame\u001b[39m.\u001b[39;49mcolumns[i]),\n\u001b[0;32m    903\u001b[0m     decimal\u001b[39m=\u001b[39;49m\u001b[39mself\u001b[39;49m\u001b[39m.\u001b[39;49mdecimal,\n\u001b[0;32m    904\u001b[0m     leading_space\u001b[39m=\u001b[39;49m\u001b[39mself\u001b[39;49m\u001b[39m.\u001b[39;49mindex,\n\u001b[0;32m    905\u001b[0m )\n",
      "File \u001b[1;32mc:\\Users\\marcv\\anaconda3\\lib\\site-packages\\pandas\\io\\formats\\format.py:1328\u001b[0m, in \u001b[0;36mformat_array\u001b[1;34m(values, formatter, float_format, na_rep, digits, space, justify, decimal, leading_space, quoting)\u001b[0m\n\u001b[0;32m   1313\u001b[0m     digits \u001b[39m=\u001b[39m get_option(\u001b[39m\"\u001b[39m\u001b[39mdisplay.precision\u001b[39m\u001b[39m\"\u001b[39m)\n\u001b[0;32m   1315\u001b[0m fmt_obj \u001b[39m=\u001b[39m fmt_klass(\n\u001b[0;32m   1316\u001b[0m     values,\n\u001b[0;32m   1317\u001b[0m     digits\u001b[39m=\u001b[39mdigits,\n\u001b[1;32m   (...)\u001b[0m\n\u001b[0;32m   1325\u001b[0m     quoting\u001b[39m=\u001b[39mquoting,\n\u001b[0;32m   1326\u001b[0m )\n\u001b[1;32m-> 1328\u001b[0m \u001b[39mreturn\u001b[39;00m fmt_obj\u001b[39m.\u001b[39;49mget_result()\n",
      "File \u001b[1;32mc:\\Users\\marcv\\anaconda3\\lib\\site-packages\\pandas\\io\\formats\\format.py:1359\u001b[0m, in \u001b[0;36mGenericArrayFormatter.get_result\u001b[1;34m(self)\u001b[0m\n\u001b[0;32m   1358\u001b[0m \u001b[39mdef\u001b[39;00m \u001b[39mget_result\u001b[39m(\u001b[39mself\u001b[39m) \u001b[39m-\u001b[39m\u001b[39m>\u001b[39m \u001b[39mlist\u001b[39m[\u001b[39mstr\u001b[39m]:\n\u001b[1;32m-> 1359\u001b[0m     fmt_values \u001b[39m=\u001b[39m \u001b[39mself\u001b[39;49m\u001b[39m.\u001b[39;49m_format_strings()\n\u001b[0;32m   1360\u001b[0m     \u001b[39mreturn\u001b[39;00m _make_fixed_width(fmt_values, \u001b[39mself\u001b[39m\u001b[39m.\u001b[39mjustify)\n",
      "File \u001b[1;32mc:\\Users\\marcv\\anaconda3\\lib\\site-packages\\pandas\\io\\formats\\format.py:1606\u001b[0m, in \u001b[0;36mFloatArrayFormatter._format_strings\u001b[1;34m(self)\u001b[0m\n\u001b[0;32m   1605\u001b[0m \u001b[39mdef\u001b[39;00m \u001b[39m_format_strings\u001b[39m(\u001b[39mself\u001b[39m) \u001b[39m-\u001b[39m\u001b[39m>\u001b[39m \u001b[39mlist\u001b[39m[\u001b[39mstr\u001b[39m]:\n\u001b[1;32m-> 1606\u001b[0m     \u001b[39mreturn\u001b[39;00m \u001b[39mlist\u001b[39m(\u001b[39mself\u001b[39;49m\u001b[39m.\u001b[39;49mget_result_as_array())\n",
      "File \u001b[1;32mc:\\Users\\marcv\\anaconda3\\lib\\site-packages\\pandas\\io\\formats\\format.py:1570\u001b[0m, in \u001b[0;36mFloatArrayFormatter.get_result_as_array\u001b[1;34m(self)\u001b[0m\n\u001b[0;32m   1567\u001b[0m \u001b[39melse\u001b[39;00m:\n\u001b[0;32m   1568\u001b[0m     float_format \u001b[39m=\u001b[39m \u001b[39mlambda\u001b[39;00m value: \u001b[39mself\u001b[39m\u001b[39m.\u001b[39mfloat_format \u001b[39m%\u001b[39m value\n\u001b[1;32m-> 1570\u001b[0m formatted_values \u001b[39m=\u001b[39m format_values_with(float_format)\n\u001b[0;32m   1572\u001b[0m \u001b[39mif\u001b[39;00m \u001b[39mnot\u001b[39;00m \u001b[39mself\u001b[39m\u001b[39m.\u001b[39mfixed_width:\n\u001b[0;32m   1573\u001b[0m     \u001b[39mreturn\u001b[39;00m formatted_values\n",
      "File \u001b[1;32mc:\\Users\\marcv\\anaconda3\\lib\\site-packages\\pandas\\io\\formats\\format.py:1544\u001b[0m, in \u001b[0;36mFloatArrayFormatter.get_result_as_array.<locals>.format_values_with\u001b[1;34m(float_format)\u001b[0m\n\u001b[0;32m   1542\u001b[0m values \u001b[39m=\u001b[39m \u001b[39mself\u001b[39m\u001b[39m.\u001b[39mvalues\n\u001b[0;32m   1543\u001b[0m is_complex \u001b[39m=\u001b[39m is_complex_dtype(values)\n\u001b[1;32m-> 1544\u001b[0m values \u001b[39m=\u001b[39m format_with_na_rep(values, formatter, na_rep)\n\u001b[0;32m   1546\u001b[0m \u001b[39mif\u001b[39;00m \u001b[39mself\u001b[39m\u001b[39m.\u001b[39mfixed_width:\n\u001b[0;32m   1547\u001b[0m     \u001b[39mif\u001b[39;00m is_complex:\n",
      "File \u001b[1;32mc:\\Users\\marcv\\anaconda3\\lib\\site-packages\\pandas\\io\\formats\\format.py:1515\u001b[0m, in \u001b[0;36mFloatArrayFormatter.get_result_as_array.<locals>.format_with_na_rep\u001b[1;34m(values, formatter, na_rep)\u001b[0m\n\u001b[0;32m   1512\u001b[0m \u001b[39mdef\u001b[39;00m \u001b[39mformat_with_na_rep\u001b[39m(values: ArrayLike, formatter: Callable, na_rep: \u001b[39mstr\u001b[39m):\n\u001b[0;32m   1513\u001b[0m     mask \u001b[39m=\u001b[39m isna(values)\n\u001b[0;32m   1514\u001b[0m     formatted \u001b[39m=\u001b[39m np\u001b[39m.\u001b[39marray(\n\u001b[1;32m-> 1515\u001b[0m         [\n\u001b[0;32m   1516\u001b[0m             formatter(val) \u001b[39mif\u001b[39;00m \u001b[39mnot\u001b[39;00m m \u001b[39melse\u001b[39;00m na_rep\n\u001b[0;32m   1517\u001b[0m             \u001b[39mfor\u001b[39;00m val, m \u001b[39min\u001b[39;00m \u001b[39mzip\u001b[39m(values\u001b[39m.\u001b[39mravel(), mask\u001b[39m.\u001b[39mravel())\n\u001b[0;32m   1518\u001b[0m         ]\n\u001b[0;32m   1519\u001b[0m     )\u001b[39m.\u001b[39mreshape(values\u001b[39m.\u001b[39mshape)\n\u001b[0;32m   1520\u001b[0m     \u001b[39mreturn\u001b[39;00m formatted\n",
      "File \u001b[1;32mc:\\Users\\marcv\\anaconda3\\lib\\site-packages\\pandas\\io\\formats\\format.py:1516\u001b[0m, in \u001b[0;36m<listcomp>\u001b[1;34m(.0)\u001b[0m\n\u001b[0;32m   1512\u001b[0m \u001b[39mdef\u001b[39;00m \u001b[39mformat_with_na_rep\u001b[39m(values: ArrayLike, formatter: Callable, na_rep: \u001b[39mstr\u001b[39m):\n\u001b[0;32m   1513\u001b[0m     mask \u001b[39m=\u001b[39m isna(values)\n\u001b[0;32m   1514\u001b[0m     formatted \u001b[39m=\u001b[39m np\u001b[39m.\u001b[39marray(\n\u001b[0;32m   1515\u001b[0m         [\n\u001b[1;32m-> 1516\u001b[0m             formatter(val) \u001b[39mif\u001b[39;00m \u001b[39mnot\u001b[39;00m m \u001b[39melse\u001b[39;00m na_rep\n\u001b[0;32m   1517\u001b[0m             \u001b[39mfor\u001b[39;00m val, m \u001b[39min\u001b[39;00m \u001b[39mzip\u001b[39m(values\u001b[39m.\u001b[39mravel(), mask\u001b[39m.\u001b[39mravel())\n\u001b[0;32m   1518\u001b[0m         ]\n\u001b[0;32m   1519\u001b[0m     )\u001b[39m.\u001b[39mreshape(values\u001b[39m.\u001b[39mshape)\n\u001b[0;32m   1520\u001b[0m     \u001b[39mreturn\u001b[39;00m formatted\n",
      "\u001b[1;31mKeyboardInterrupt\u001b[0m: "
     ]
    }
   ],
   "source": [
    "ValDeMarne = valeursfoncieres_2022.loc[valeursfoncieres_2022[\"Code departement\"] == 94]\n",
    "\n",
    "#ValDeMarne = ValDeMarne.loc[(ValDeMarne[\"Surface reelle bati\"]!=0 | ValDeMarne[\"Surface reelle bati\"]!=np.nan)]\n",
    "ValDeMarne = ValDeMarne[(ValDeMarne[\"Surface reelle bati\"]!=0)]\n",
    "ValDeMarne = ValDeMarne.dropna(subset=[\"Surface reelle bati\"])\n",
    "#ValDeMArne = ValDeMarne.dropna(subset=[\"Surface reelle bati\"])\n",
    "\n",
    "ValDeMarne['sort_val'] = ValDeMarne[\"Valeur fonciere\"] / ValDeMarne[\"Surface reelle bati\"]\n",
    "ValDeMarne =  ValDeMarne.sort_values('sort_val')\n",
    "\n",
    "tfile = open('test.txt', 'w')\n",
    "tfile.write(ValDeMarne.to_string())\n",
    "tfile.close()\n",
    "\n",
    "\n",
    "ValDeMarne_Maison =  ValDeMarne[(ValDeMarne[\"Type local\"]==\"Maison\")]\n",
    "tfile = open('test1.txt', 'w')\n",
    "tfile.write(ValDeMarne_Maison.to_string())\n",
    "tfile.close()\n",
    "\n",
    "prixM_2_VDM = ValDeMarne[\"Valeur fonciere\"].sum()/ValDeMarne[\"Surface reelle bati\"].sum()\n",
    "print(prixM_2_VDM)"
   ]
  },
  {
   "cell_type": "code",
   "execution_count": null,
   "metadata": {},
   "outputs": [
    {
     "name": "stdout",
     "output_type": "stream",
     "text": [
      "3614905    1.0\n",
      "3614900    1.0\n",
      "3598789    1.0\n",
      "3594791    1.0\n",
      "3626769    1.0\n",
      "          ... \n",
      "3622685    NaN\n",
      "3622686    NaN\n",
      "3622687    NaN\n",
      "3622688    NaN\n",
      "3623181    NaN\n",
      "Name: Valeur fonciere, Length: 21708, dtype: float64\n"
     ]
    }
   ],
   "source": [
    "print(ValDeMarne[\"Valeur fonciere\"])"
   ]
  }
 ],
 "metadata": {
  "kernelspec": {
   "display_name": "base",
   "language": "python",
   "name": "python3"
  },
  "language_info": {
   "codemirror_mode": {
    "name": "ipython",
    "version": 3
   },
   "file_extension": ".py",
   "mimetype": "text/x-python",
   "name": "python",
   "nbconvert_exporter": "python",
   "pygments_lexer": "ipython3",
   "version": "3.9.7"
  },
  "orig_nbformat": 4
 },
 "nbformat": 4,
 "nbformat_minor": 2
}
