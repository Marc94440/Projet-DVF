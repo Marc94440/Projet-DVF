{
 "cells": [
  {
   "attachments": {},
   "cell_type": "markdown",
   "metadata": {},
   "source": [
    "# Projet DVF"
   ]
  },
  {
   "attachments": {},
   "cell_type": "markdown",
   "metadata": {},
   "source": [
    "### Import et chargement des données"
   ]
  },
  {
   "cell_type": "code",
   "execution_count": 6,
   "metadata": {},
   "outputs": [
    {
     "name": "stderr",
     "output_type": "stream",
     "text": [
      "C:\\Users\\marcv\\AppData\\Local\\Temp\\ipykernel_7260\\722750411.py:6: DtypeWarning: Columns (18,23,24,26,28,29,31,33,41) have mixed types. Specify dtype option on import or set low_memory=False.\n",
      "  valeursfoncieres_2022=pd.read_csv(\"valeursfoncieres-2022.txt\", sep=\"|\")\n"
     ]
    }
   ],
   "source": [
    "#!pip install Django==4.2\n",
    "import pandas as pd\n",
    "from datetime import datetime\n",
    "import numpy as np\n",
    "\n",
    "valeursfoncieres_2022=pd.read_csv(\"valeursfoncieres-2022.txt\", sep=\"|\")\n",
    "#valeursfoncieres_2021=pd.read_csv(\"valeursfoncieres-2021.txt\", sep=\"|\")\n",
    "#valeursfoncieres_2020=pd.read_csv(\"valeursfoncieres-2020.txt\", sep=\"|\")\n",
    "#valeursfoncieres_2019=pd.read_csv(\"valeursfoncieres-2019.txt\", sep=\"|\")\n",
    "#valeursfoncieres_2018=pd.read_csv(\"valeursfoncieres-2018.txt\", sep=\"|\")\n",
    "\n",
    "\n",
    "#Pour lire http://www.groupe-dvf.fr/fiche-n4-qualite-et-exhaustivite-des-donnees-dvf/"
   ]
  },
  {
   "cell_type": "code",
   "execution_count": 7,
   "metadata": {},
   "outputs": [],
   "source": [
    "#print(valeursfoncieres_2022[:100][\"Type local\"])\n",
    "valeursfoncieres_2022 = valeursfoncieres_2022.dropna(axis=1, how='all') #Supprime les colonnes vide\n",
    "valeursfoncieres_2022[\"Date mutation\"] = pd.to_datetime(valeursfoncieres_2022[\"Date mutation\"].str.strip(), format=\"%d/%m/%Y\")#Convertit Date mutation en datetime \n",
    "\n",
    "valeursfoncieres_2022[\"Valeur fonciere\"] = valeursfoncieres_2022[\"Valeur fonciere\"].astype(str).str.replace(\",\",\".\")\n",
    "valeursfoncieres_2022[\"Valeur fonciere\"] = valeursfoncieres_2022[\"Valeur fonciere\"].replace(\"nan\", np.nan)\n",
    "valeursfoncieres_2022[\"Valeur fonciere\"] = pd.to_numeric(valeursfoncieres_2022[\"Valeur fonciere\"])\n",
    "\n",
    "#valeursfoncieres_2022[\"Valeur fonciere\"] = valeursfoncieres_2022[\"Valeur fonciere\"].astype(float)\n",
    "#valeursfoncieres_2022[\"Valeur fonciere\"] = valeursfoncieres_2022[\"Valeur fonciere\"].replace(\",\",\".\")\n",
    "#valeursfoncieres_2022[\"Valeur fonciere\"] = valeursfoncieres_2022[\"Valeur fonciere\"].astype(int)\n",
    "\n",
    "\n",
    "#valeursfoncieres_2022[\"Valeur fonciere\"] = pd.to_numeric(str(valeursfoncieres_2022[\"Valeur fonciere\"]))\n",
    "\n",
    "\n",
    "#print(valeursfoncieres_2022[:20])\n",
    "#print(valeursfoncieres_2022.dtypes)"
   ]
  },
  {
   "cell_type": "code",
   "execution_count": 8,
   "metadata": {},
   "outputs": [
    {
     "name": "stdout",
     "output_type": "stream",
     "text": [
      "172000.0\n"
     ]
    }
   ],
   "source": [
    "print(valeursfoncieres_2022[\"Valeur fonciere\"][220])"
   ]
  },
  {
   "cell_type": "code",
   "execution_count": 11,
   "metadata": {},
   "outputs": [
    {
     "name": "stdout",
     "output_type": "stream",
     "text": [
      "12256.084883411646\n"
     ]
    }
   ],
   "source": [
    "ValDeMarne = valeursfoncieres_2022.loc[valeursfoncieres_2022[\"Code departement\"] == 94]\n",
    "\n",
    "#ValDeMarne = ValDeMarne.loc[(ValDeMarne[\"Surface reelle bati\"]!=0 | ValDeMarne[\"Surface reelle bati\"]!=np.nan)]\n",
    "ValDeMarne = ValDeMarne[(ValDeMarne[\"Surface reelle bati\"]!=0)]\n",
    "ValDeMarne = ValDeMarne.dropna(subset=[\"Surface reelle bati\"])\n",
    "#ValDeMArne = ValDeMarne.dropna(subset=[\"Surface reelle bati\"])\n",
    "\n",
    "ValDeMarne['sort_val'] = ValDeMarne[\"Valeur fonciere\"] / ValDeMarne[\"Surface reelle bati\"]\n",
    "ValDeMarne =  ValDeMarne.sort_values('sort_val')\n",
    "\n",
    "tfile = open('test.txt', 'w')\n",
    "tfile.write(ValDeMarne.to_string())\n",
    "tfile.close()\n",
    "\n",
    "\n",
    "ValDeMarne_Maison =  ValDeMarne[(ValDeMarne[\"Type local\"]==\"Maison\")]\n",
    "tfile = open('test1.txt', 'w')\n",
    "tfile.write(ValDeMarne_Maison.to_string())\n",
    "tfile.close()\n",
    "\n",
    "prixM_2_VDM = ValDeMarne[\"Valeur fonciere\"].sum()/ValDeMarne[\"Surface reelle bati\"].sum()\n",
    "print(prixM_2_VDM)"
   ]
  },
  {
   "attachments": {},
   "cell_type": "markdown",
   "metadata": {},
   "source": [
    "Au minimum une vingtaine d'interprétations et visualisations pertinentes autour d'une\n",
    "année (en particulier 2022 ) prix moyen du mètre carré d'un département d'une ville,\n",
    "comparaison entre différents type, appart, maison, geomap, différence entre ville,\n",
    "départements, régions,...\n"
   ]
  }
 ],
 "metadata": {
  "kernelspec": {
   "display_name": "base",
   "language": "python",
   "name": "python3"
  },
  "language_info": {
   "codemirror_mode": {
    "name": "ipython",
    "version": 3
   },
   "file_extension": ".py",
   "mimetype": "text/x-python",
   "name": "python",
   "nbconvert_exporter": "python",
   "pygments_lexer": "ipython3",
   "version": "3.9.7"
  },
  "orig_nbformat": 4
 },
 "nbformat": 4,
 "nbformat_minor": 2
}
